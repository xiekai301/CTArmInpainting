{
 "cells": [
  {
   "cell_type": "code",
   "execution_count": 1,
   "metadata": {},
   "outputs": [
    {
     "name": "stderr",
     "output_type": "stream",
     "text": [
      "WARNING: Logging before flag parsing goes to stderr.\n",
      "W1011 18:37:27.499030 140369443944256 deprecation_wrapper.py:119] From /home/czey/z0-金属伪影项目汇总/unet-ctmr/mrtoct/ioutil/tfrecord.py:17: The name tf.python_io.TFRecordOptions is deprecated. Please use tf.io.TFRecordOptions instead.\n",
      "\n",
      "W1011 18:37:27.499781 140369443944256 deprecation_wrapper.py:119] From /home/czey/z0-金属伪影项目汇总/unet-ctmr/mrtoct/ioutil/tfrecord.py:18: The name tf.python_io.TFRecordCompressionType is deprecated. Please use tf.compat.v1.python_io.TFRecordCompressionType instead.\n",
      "\n",
      "W1011 18:37:28.635201 140369443944256 deprecation_wrapper.py:119] From /home/czey/z0-金属伪影项目汇总/unet-ctmr/mrtoct/ioutil/tfrecord.py:49: The name tf.FixedLenFeature is deprecated. Please use tf.io.FixedLenFeature instead.\n",
      "\n",
      "W1011 18:37:28.635912 140369443944256 deprecation_wrapper.py:119] From /home/czey/z0-金属伪影项目汇总/unet-ctmr/mrtoct/ioutil/tfrecord.py:50: The name tf.VarLenFeature is deprecated. Please use tf.io.VarLenFeature instead.\n",
      "\n"
     ]
    }
   ],
   "source": [
    "import numpy as np\n",
    "import tensorflow as tf\n",
    "\n",
    "from mrtoct import data, ioutil\n",
    "\n",
    "from scipy import ndimage\n",
    "from skimage import filters\n",
    "\n",
    "from matplotlib import pyplot as plt\n",
    "\n",
    "transform = data.transform.DecodeExample()\n",
    "\n",
    "def read_volume(path):\n",
    "    return (tf.data.TFRecordDataset(path, 'GZIP')\n",
    "            .map(transform)\n",
    "            .make_one_shot_iterator()\n",
    "            .get_next())\n",
    "\n",
    "\n",
    "\n",
    "def remove_background(x):\n",
    "    s = ndimage.binary_fill_holes(x > filters.threshold_otsu(x))\n",
    "    \n",
    "    x[s == 0] = 0\n",
    "\n",
    "session = tf.Session()"
   ]
  },
  {
   "cell_type": "code",
   "execution_count": 4,
   "metadata": {},
   "outputs": [],
   "source": [
    "tfrecord_origin = read_volume('data_tfrecord/data_origin_test.tfrecord')\n",
    "tfrecord_metal = read_volume('data_tfrecord/data_metal_test.tfrecord')\n",
    "tfrecord_LIMAR = read_volume('data_tfrecord/data_metal_LIMAR.tfrecord')\n",
    "tfrecord_NMAR = read_volume('data_tfrecord/data_metal_NMAR.tfrecord')\n",
    "tfrecord_unet_predicted = read_volume('predicted_output/data_metal_unet.tfrecord')\n",
    "tfrecord_pix2pix_predicted = read_volume('predicted_output/data_metal_pix2pix2.tfrecord')\n"
   ]
  },
  {
   "cell_type": "code",
   "execution_count": 5,
   "metadata": {},
   "outputs": [
    {
     "name": "stdout",
     "output_type": "stream",
     "text": [
      "(50, 512, 512, 1)\n",
      "(61, 512, 512, 1)\n",
      "(40, 512, 512, 1)\n",
      "(54, 512, 512, 1)\n",
      "(51, 512, 512, 1)\n",
      "(45, 512, 512, 1)\n"
     ]
    }
   ],
   "source": [
    "img_origin_all=[]\n",
    "img_metal_all = []\n",
    "img_LIMAR_all = []\n",
    "img_NMAR_all = []\n",
    "img_unet_all = []\n",
    "img_pix2pix_all = []\n",
    "for i in range(6):    \n",
    "    img_origin = session.run(tfrecord_origin) \n",
    "    img_metal = session.run(tfrecord_metal)\n",
    "    img_LIMAR = session.run(tfrecord_LIMAR)\n",
    "    img_NMAR = session.run(tfrecord_NMAR)\n",
    "    img_unet = session.run(tfrecord_unet_predicted)\n",
    "    img_pix2pix = session.run(tfrecord_pix2pix_predicted)\n",
    "\n",
    "    \n",
    "    img_origin_all.append(img_origin)\n",
    "    img_metal_all.append(img_metal)\n",
    "    img_LIMAR_all.append(img_LIMAR)\n",
    "    img_NMAR_all.append(img_NMAR)\n",
    "    img_unet_all.append(img_unet)\n",
    "    img_pix2pix_all.append(img_pix2pix)\n",
    "\n",
    "    print(img_origin.shape)"
   ]
  },
  {
   "cell_type": "code",
   "execution_count": 6,
   "metadata": {},
   "outputs": [
    {
     "name": "stdout",
     "output_type": "stream",
     "text": [
      "(301, 512, 512, 1)\n"
     ]
    }
   ],
   "source": [
    "img_origin_all=np.vstack(img_origin_all)\n",
    "img_metal_all=np.vstack(img_metal_all)\n",
    "img_LIMAR_all=np.vstack(img_LIMAR_all)\n",
    "img_NMAR_all=np.vstack(img_NMAR_all)\n",
    "img_unet_all=np.vstack(img_unet_all)\n",
    "img_pix2pix_all=np.vstack(img_pix2pix_all)\n",
    "\n",
    "\n",
    "print(img_origin_all.shape)\n"
   ]
  },
  {
   "cell_type": "code",
   "execution_count": 7,
   "metadata": {},
   "outputs": [],
   "source": [
    "num_imgs = img_origin_all.shape[0]\n",
    "for i in range(num_imgs):\n",
    "    img_origin_all[i,:,:,0]=np.flip(img_origin_all[i,:,:,0],0)\n",
    "    img_metal_all[i,:,:,0]=np.flip(img_metal_all[i,:,:,0],0)\n",
    "    img_LIMAR_all[i,:,:,0]=np.flip(img_LIMAR_all[i,:,:,0],0)\n",
    "    img_NMAR_all[i,:,:,0]=np.flip(img_NMAR_all[i,:,:,0],0)\n",
    "    img_unet_all[i,:,:,0]=np.flip(img_unet_all[i,:,:,0],0)\n",
    "    img_pix2pix_all[i,:,:,0]=np.flip(img_pix2pix_all[i,:,:,0],0)"
   ]
  },
  {
   "cell_type": "code",
   "execution_count": 6,
   "metadata": {},
   "outputs": [],
   "source": [
    "img_unet_all=np.int16(img_unet_all)\n",
    "np.save('img_unet_all.npy',img_unet_all)"
   ]
  },
  {
   "cell_type": "code",
   "execution_count": 15,
   "metadata": {},
   "outputs": [],
   "source": [
    "img_pix2pix_all=np.int16(img_pix2pix_all)\n",
    "np.save('img_pix2pix_all.npy',img_pix2pix_all)"
   ]
  },
  {
   "cell_type": "code",
   "execution_count": 7,
   "metadata": {},
   "outputs": [],
   "source": [
    "# img_pred_all_array[img_pred_all_array>3900]=9000"
   ]
  },
  {
   "cell_type": "code",
   "execution_count": 10,
   "metadata": {},
   "outputs": [],
   "source": [
    "import matplotlib.pyplot as plt\n",
    "import matplotlib\n",
    "# %matplotlib qt5\n",
    "# matplotlib.use('Agg')"
   ]
  },
  {
   "cell_type": "code",
   "execution_count": 49,
   "metadata": {},
   "outputs": [
    {
     "data": {
      "text/plain": [
       "Text(0.5, 1.0, 'img_origin')"
      ]
     },
     "execution_count": 49,
     "metadata": {},
     "output_type": "execute_result"
    }
   ],
   "source": [
    "i=49\n",
    "# img_origin[i,:,:,0][img_origin[i,:,:,0]>4000]=4000\n",
    "fig,ax=plt.subplots(figsize=(6.4,4.8), dpi=300)\n",
    "plt.imshow(img_origin_all[i,:,:,0],vmin=500,vmax=2000,cmap='gray')\n",
    "plt.title('img_origin')"
   ]
  },
  {
   "cell_type": "code",
   "execution_count": 11,
   "metadata": {
    "scrolled": false
   },
   "outputs": [],
   "source": [
    "i=113\n",
    "# img_origin[i,:,:,0][img_origin[i,:,:,0]>4000]=4000\n",
    "fig,ax=plt.subplots(figsize=(6.4,4.8), dpi=300)\n",
    "plt.imshow(img_origin_all[i,:,:,0],vmin=-260+1024,vmax=340+1024,cmap='gray')\n",
    "plt.title('img_origin')\n",
    "plt.savefig('method_result_compare/%03d_1origin.png' % i, bbox_inches='tight')\n",
    "\n",
    "fig,ax=plt.subplots(figsize=(6.4,4.8), dpi=300)\n",
    "plt.imshow(img_metal_all[i,:,:,0],vmin=-260+1024,vmax=340+1024,cmap='gray')\n",
    "plt.title('img_metal')\n",
    "plt.savefig('method_result_compare/%03d_2metal.png' % i, bbox_inches='tight')\n",
    "\n",
    "fig,ax=plt.subplots(figsize=(6.4,4.8), dpi=300)\n",
    "plt.imshow(img_LIMAR_all[i,:,:,0],vmin=-260+1024,vmax=340+1024,cmap='gray')\n",
    "plt.title('img_LIMAR')\n",
    "plt.savefig('method_result_compare/%03d_3LIMAR.png' % i, bbox_inches='tight')\n",
    "\n",
    "fig,ax=plt.subplots(figsize=(6.4,4.8), dpi=300)\n",
    "plt.imshow(img_NMAR_all[i,:,:,0],vmin=-260+1024,vmax=340+1024,cmap='gray')\n",
    "plt.title('img_NMAR')\n",
    "plt.savefig('method_result_compare/%03d_4NMAR.png' % i, bbox_inches='tight')\n",
    "\n",
    "fig,ax=plt.subplots(figsize=(6.4,4.8), dpi=300)\n",
    "plt.imshow(img_unet_all[i,:,:,0],vmin=-260+1024,vmax=340+1024,cmap='gray')\n",
    "plt.title('img_unet')\n",
    "plt.savefig('method_result_compare/%03d_5unet.png' % i, bbox_inches='tight')\n",
    "\n",
    "fig,ax=plt.subplots(figsize=(6.4,4.8), dpi=300)\n",
    "plt.imshow(img_pix2pix_all[i,:,:,0],vmin=-260+1024,vmax=340+1024,cmap='gray')\n",
    "plt.title('img_pix2pix')\n",
    "plt.savefig('method_result_compare/%03d_6pix2pix.png' % i, bbox_inches='tight')\n",
    "\n",
    "\n",
    "fig,ax=plt.subplots(figsize=(6.4,4.8), dpi=300)\n",
    "plt.imshow(img_LIMAR_all[i,:,:,0]-img_origin_all[i,:,:,0], vmin=-400,vmax=400, cmap='bwr')\n",
    "# plt.colorbar()\n",
    "plt.title('img_LIMAR-img_origin')\n",
    "plt.savefig('method_result_compare/%03d_7LIMAR-origin.png' % i, bbox_inches='tight')\n",
    "\n",
    "fig,ax=plt.subplots(figsize=(6.4,4.8), dpi=300)\n",
    "plt.imshow(img_NMAR_all[i,:,:,0]-img_origin_all[i,:,:,0], vmin=-400,vmax=400, cmap='bwr')\n",
    "# plt.colorbar()\n",
    "plt.title('img_NMAR-img_origin')\n",
    "plt.savefig('method_result_compare/%03d_8NMAR-origin.png' % i, bbox_inches='tight')\n",
    "\n",
    "fig,ax=plt.subplots(figsize=(6.4,4.8), dpi=300)\n",
    "plt.imshow(img_unet_all[i,:,:,0]-img_origin_all[i,:,:,0], vmin=-400,vmax=400, cmap='bwr')\n",
    "# plt.colorbar()\n",
    "plt.title('img_unet-img_origin')\n",
    "plt.savefig('method_result_compare/%03d_9unet-origin.png' % i, bbox_inches='tight')\n",
    "\n",
    "\n",
    "fig,ax=plt.subplots(figsize=(6.4,4.8), dpi=300)\n",
    "plt.imshow(img_pix2pix_all[i,:,:,0]-img_origin_all[i,:,:,0],vmin=-400,vmax=400,cmap='bwr')\n",
    "plt.title('img_pix2pix-img_origin')\n",
    "# plt.colorbar()\n",
    "plt.savefig('method_result_compare/%03d_10pix-pixorigin.png' % i, bbox_inches='tight')"
   ]
  },
  {
   "cell_type": "code",
   "execution_count": 19,
   "metadata": {},
   "outputs": [
    {
     "data": {
      "text/plain": [
       "-5.570781707763672"
      ]
     },
     "execution_count": 19,
     "metadata": {},
     "output_type": "execute_result"
    }
   ],
   "source": [
    "(img_pix2pix_all[i,:,:,0]-img_origin_all[i,:,:,0]).flatten().mean()"
   ]
  },
  {
   "cell_type": "code",
   "execution_count": 18,
   "metadata": {},
   "outputs": [
    {
     "name": "stderr",
     "output_type": "stream",
     "text": [
      "/home/czey/anaconda3/envs/tf/lib/python3.6/site-packages/ipykernel_launcher.py:1: RuntimeWarning: More than 20 figures have been opened. Figures created through the pyplot interface (`matplotlib.pyplot.figure`) are retained until explicitly closed and may consume too much memory. (To control this warning, see the rcParam `figure.max_open_warning`).\n",
      "  \"\"\"Entry point for launching an IPython kernel.\n"
     ]
    }
   ],
   "source": [
    "fig,ax=plt.subplots(figsize=(6.4,4.8), dpi=300)\n",
    "plt.hist((img_LIMAR_all-img_origin_all).flatten(), color='royalblue', edgecolor='k',bins=700)\n",
    "plt.xlim(-100, 100)\n",
    "plt.xlabel('CT Number Difference (HU)')\n",
    "plt.ylabel('Number of Bins')\n",
    "plt.savefig('method_result_compare/hist_LIMAR-origin.png', bbox_inches='tight')"
   ]
  },
  {
   "cell_type": "code",
   "execution_count": 19,
   "metadata": {},
   "outputs": [
    {
     "name": "stderr",
     "output_type": "stream",
     "text": [
      "/home/czey/anaconda3/envs/tf/lib/python3.6/site-packages/ipykernel_launcher.py:1: RuntimeWarning: More than 20 figures have been opened. Figures created through the pyplot interface (`matplotlib.pyplot.figure`) are retained until explicitly closed and may consume too much memory. (To control this warning, see the rcParam `figure.max_open_warning`).\n",
      "  \"\"\"Entry point for launching an IPython kernel.\n"
     ]
    }
   ],
   "source": [
    "fig,ax=plt.subplots(figsize=(6.4,4.8), dpi=300)\n",
    "plt.hist((img_NMAR_all-img_origin_all).flatten(), color='royalblue', edgecolor='k',bins=700)\n",
    "plt.xlim(-100, 100)\n",
    "plt.xlabel('CT Number Difference (HU)')\n",
    "plt.ylabel('Number of Bins')\n",
    "plt.savefig('method_result_compare/hist_NMAR-origin.png', bbox_inches='tight')"
   ]
  },
  {
   "cell_type": "code",
   "execution_count": 20,
   "metadata": {},
   "outputs": [
    {
     "name": "stderr",
     "output_type": "stream",
     "text": [
      "/home/czey/anaconda3/envs/tf/lib/python3.6/site-packages/ipykernel_launcher.py:1: RuntimeWarning: More than 20 figures have been opened. Figures created through the pyplot interface (`matplotlib.pyplot.figure`) are retained until explicitly closed and may consume too much memory. (To control this warning, see the rcParam `figure.max_open_warning`).\n",
      "  \"\"\"Entry point for launching an IPython kernel.\n"
     ]
    }
   ],
   "source": [
    "fig,ax=plt.subplots(figsize=(6.4,4.8), dpi=300)\n",
    "plt.hist((img_unet_all-img_origin_all).flatten(), color='royalblue', edgecolor='k',bins=700)\n",
    "plt.xlim(-100, 100)\n",
    "plt.xlabel('CT Number Difference (HU)')\n",
    "plt.ylabel('Number of Bins')\n",
    "plt.savefig('method_result_compare/hist_unet-origin.png', bbox_inches='tight')"
   ]
  },
  {
   "cell_type": "code",
   "execution_count": 21,
   "metadata": {},
   "outputs": [
    {
     "name": "stderr",
     "output_type": "stream",
     "text": [
      "/home/czey/anaconda3/envs/tf/lib/python3.6/site-packages/ipykernel_launcher.py:1: RuntimeWarning: More than 20 figures have been opened. Figures created through the pyplot interface (`matplotlib.pyplot.figure`) are retained until explicitly closed and may consume too much memory. (To control this warning, see the rcParam `figure.max_open_warning`).\n",
      "  \"\"\"Entry point for launching an IPython kernel.\n"
     ]
    }
   ],
   "source": [
    "fig,ax=plt.subplots(figsize=(6.4,4.8), dpi=300)\n",
    "plt.hist((img_pix2pix_all-img_origin_all).flatten(), color='royalblue', edgecolor='k',bins=700)\n",
    "plt.xlim(-100, 100)\n",
    "plt.xlabel('CT Number Difference (HU)')\n",
    "plt.ylabel('Number of Bins')\n",
    "plt.savefig('method_result_compare/hist_pix2pix-origin.png', bbox_inches='tight')"
   ]
  },
  {
   "cell_type": "code",
   "execution_count": 44,
   "metadata": {},
   "outputs": [
    {
     "data": {
      "text/plain": [
       "[<matplotlib.lines.Line2D at 0x7fbb6f0912b0>]"
      ]
     },
     "execution_count": 44,
     "metadata": {},
     "output_type": "execute_result"
    },
    {
     "data": {
      "image/png": "[encoded data removed]",
      "text/plain": [
       "<Figure size 432x288 with 1 Axes>"
      ]
     },
     "metadata": {
      "needs_background": "light"
     },
     "output_type": "display_data"
    }
   ],
   "source": [
    "import numpy as np\n",
    "import matplotlib.pyplot as plt\n",
    "\n",
    "import matplotlib.pyplot as plt\n",
    "import matplotlib.ticker as mticker  \n",
    "x = [i * 2872155 for i in range(1, 11)]\n",
    "y = [0.219, 0.402,  0.543,  0.646,0.765,  0.880,1.169, 1.358,1.492,1.611]\n",
    "\n",
    "plt.gca().yaxis.set_major_formatter(mticker.FormatStrFormatter('%.1f s'))\n",
    "plt.plot(x, y)\n"
   ]
  },
  {
   "cell_type": "code",
   "execution_count": 6,
   "metadata": {},
   "outputs": [],
   "source": [
    "# import cv2 as cv\n",
    "# from skimage.metrics import structural_similarity as ssim\n",
    "# img_origin_all=np.vstack(img_origin_all)\n",
    "# img_metal_all=np.vstack(img_metal_all)\n",
    "# img_unet_all=np.vstack(img_unet_all)\n",
    "# img_pix2pix_all=np.vstack(img_pix2pix_all)\n",
    "\n",
    "\n",
    "# print(img_origin_all.shape)\n",
    "# print(img_metal_all.shape)\n",
    "# print(img_unet_all.shape)\n",
    "# print(img_pix2pix_all.shape)"
   ]
  },
  {
   "cell_type": "code",
   "execution_count": 10,
   "metadata": {},
   "outputs": [],
   "source": [
    "import numpy as np\n",
    "from skimage.metrics import mean_squared_error as mse\n",
    "# from skimage.measure import compare_mse as mse2\n",
    "from skimage.metrics import normalized_root_mse as nrm\n",
    "from skimage.metrics import peak_signal_noise_ratio as psnr\n",
    "from skimage.metrics import structural_similarity as ssim\n",
    "def mae(img1, img2):\n",
    "    mae = np.mean( abs(img1 - img2)  )\n",
    "    return mae"
   ]
  },
  {
   "cell_type": "code",
   "execution_count": 16,
   "metadata": {},
   "outputs": [
    {
     "name": "stdout",
     "output_type": "stream",
     "text": [
      "-7.595035711460696e-13\n",
      "-5.220268661787486e-13\n",
      "-4.934941344458821e-13\n",
      "-7.893685705084863e-14\n",
      "-7.138734048339757e-14\n"
     ]
    }
   ],
   "source": [
    "# imgs_num = img_origin_all.shape[0]\n",
    "# ssim_metal = np.zeros(imgs_num)\n",
    "# ssim_LIMAR = np.zeros(imgs_num)\n",
    "# ssim_NMAR = np.zeros(imgs_num)\n",
    "# ssim_unet = np.zeros(imgs_num)\n",
    "# ssim_pix2pix = np.zeros(imgs_num)\n",
    "\n",
    "# for i in range(imgs_num):\n",
    "#     image_origin=img_origin_all[i,:,:,0]\n",
    "#     image_metal=img_metal_all[i,:,:,0]\n",
    "#     image_LIMAR=img_LIMAR_all[i,:,:,0]\n",
    "#     image_NMAR=img_NMAR_all[i,:,:,0]\n",
    "#     image_unet=img_unet_all[i,:,:,0]\n",
    "#     image_pix2pix=img_pix2pix_all[i,:,:,0]\n",
    "#     ssim_metal[i] = ssim(image_origin, image_metal)\n",
    "#     ssim_LIMAR[i] = ssim(image_origin, image_LIMAR)\n",
    "#     ssim_NMAR[i] = ssim(image_origin, image_NMAR)\n",
    "#     ssim_unet[i] = ssim(image_origin, image_unet)\n",
    "#     ssim_pix2pix[i] = ssim(image_origin, image_pix2pix)\n",
    "# ssim_metal_total=ssim_metal.mean()\n",
    "# ssim_LIMAR_total=ssim_LIMAR.mean()\n",
    "# ssim_NMAR_total=ssim_NMAR.mean()\n",
    "# ssim_unet_total=ssim_unet.mean()\n",
    "# ssim_pix2pix_total=ssim_pix2pix.mean()\n",
    "print(ssim_metal_total-1)\n",
    "print(ssim_LIMAR_total-1)\n",
    "print(ssim_NMAR_total-1)\n",
    "print(ssim_unet_total-1)\n",
    "print(ssim_pix2pix_total-1)"
   ]
  },
  {
   "cell_type": "code",
   "execution_count": 12,
   "metadata": {},
   "outputs": [
    {
     "name": "stdout",
     "output_type": "stream",
     "text": [
      "3162.5179590117496\n",
      "2539.8012413709266\n",
      "2812.38240554404\n",
      "717.6120203594829\n",
      "692.1421995321382\n"
     ]
    }
   ],
   "source": [
    "imgs_num = img_origin_all.shape[0]\n",
    "mse_metal = np.zeros(imgs_num)\n",
    "mse_LIMAR = np.zeros(imgs_num)\n",
    "mse_NMAR = np.zeros(imgs_num)\n",
    "mse_unet = np.zeros(imgs_num)\n",
    "mse_pix2pix = np.zeros(imgs_num)\n",
    "\n",
    "for i in range(imgs_num):\n",
    "    image_origin=img_origin_all[i,:,:,0]\n",
    "    image_metal=img_metal_all[i,:,:,0]\n",
    "    image_LIMAR=img_LIMAR_all[i,:,:,0]\n",
    "    image_NMAR=img_NMAR_all[i,:,:,0]\n",
    "    image_unet=img_unet_all[i,:,:,0]\n",
    "    image_pix2pix=img_pix2pix_all[i,:,:,0]\n",
    "    mse_metal[i] = mse(image_origin, image_metal)\n",
    "    mse_LIMAR[i] = mse(image_origin, image_LIMAR)\n",
    "    mse_NMAR[i] = mse(image_origin, image_NMAR)\n",
    "    mse_unet[i] = mse(image_origin, image_unet)\n",
    "    mse_pix2pix[i] = mse(image_origin, image_pix2pix)\n",
    "mse_metal_total=mse_metal.mean()\n",
    "mse_LIMAR_total=mse_LIMAR.mean()\n",
    "mse_NMAR_total=mse_NMAR.mean()\n",
    "mse_unet_total=mse_unet.mean()\n",
    "mse_pix2pix_total=mse_pix2pix.mean()\n",
    "print(mse_metal_total)\n",
    "print(mse_LIMAR_total)\n",
    "print(mse_NMAR_total)\n",
    "print(mse_unet_total)\n",
    "print(mse_pix2pix_total)"
   ]
  },
  {
   "cell_type": "code",
   "execution_count": 11,
   "metadata": {},
   "outputs": [
    {
     "data": {
      "text/plain": [
       "0.0"
      ]
     },
     "execution_count": 11,
     "metadata": {},
     "output_type": "execute_result"
    }
   ],
   "source": [
    "ssim_metal = np.zeros(5)\n",
    "ssim_metal[0]"
   ]
  },
  {
   "cell_type": "code",
   "execution_count": 17,
   "metadata": {},
   "outputs": [
    {
     "name": "stdout",
     "output_type": "stream",
     "text": [
      "12.8891721959922\n",
      "15.024798421764691\n",
      "16.158845375542626\n",
      "6.118501390729632\n",
      "6.482872047297582\n"
     ]
    }
   ],
   "source": [
    "imgs_num = img_origin_all.shape[0]\n",
    "mae_metal = np.zeros(imgs_num)\n",
    "mae_LIMAR = np.zeros(imgs_num)\n",
    "mae_NMAR = np.zeros(imgs_num)\n",
    "mae_unet = np.zeros(imgs_num)\n",
    "mae_pix2pix = np.zeros(imgs_num)\n",
    "\n",
    "for i in range(imgs_num):\n",
    "    image_origin=img_origin_all[i,:,:,0]\n",
    "    image_metal=img_metal_all[i,:,:,0]\n",
    "    image_LIMAR=img_LIMAR_all[i,:,:,0]\n",
    "    image_NMAR=img_NMAR_all[i,:,:,0]\n",
    "    image_unet=img_unet_all[i,:,:,0]\n",
    "    image_pix2pix=img_pix2pix_all[i,:,:,0]\n",
    "    mae_metal[i] = mae(image_origin, image_metal)\n",
    "    mae_LIMAR[i] = mae(image_origin, image_LIMAR)\n",
    "    mae_NMAR[i] = mae(image_origin, image_NMAR)\n",
    "    mae_unet[i] = mae(image_origin, image_unet)\n",
    "    mae_pix2pix[i] = mae(image_origin, image_pix2pix)\n",
    "mae_metal_total=mae_metal.mean()\n",
    "mae_LIMAR_total=mae_LIMAR.mean()\n",
    "mae_NMAR_total=mae_NMAR.mean()\n",
    "mae_unet_total=mae_unet.mean()\n",
    "mae_pix2pix_total=mae_pix2pix.mean()\n",
    "print(mae_metal_total)\n",
    "print(mae_LIMAR_total)\n",
    "print(mae_NMAR_total)\n",
    "print(mae_unet_total)\n",
    "print(mae_pix2pix_total)"
   ]
  },
  {
   "cell_type": "code",
   "execution_count": 14,
   "metadata": {},
   "outputs": [
    {
     "name": "stderr",
     "output_type": "stream",
     "text": [
      "/home/czey/anaconda3/envs/tf/lib/python3.6/site-packages/ipykernel_launcher.py:18: UserWarning: Inputs have mismatched dtype.  Setting data_range based on im_true.\n"
     ]
    },
    {
     "name": "stdout",
     "output_type": "stream",
     "text": [
      "152.51782896259786\n",
      "153.36545273331063\n",
      "152.7080954229378\n",
      "158.9331029833168\n",
      "158.98031717808072\n"
     ]
    }
   ],
   "source": [
    "imgs_num = img_origin_all.shape[0]\n",
    "psnr_metal = np.zeros(imgs_num)\n",
    "psnr_LIMAR = np.zeros(imgs_num)\n",
    "psnr_NMAR = np.zeros(imgs_num)\n",
    "psnr_unet = np.zeros(imgs_num)\n",
    "psnr_pix2pix = np.zeros(imgs_num)\n",
    "\n",
    "for i in range(imgs_num):\n",
    "    image_origin=img_origin_all[i,:,:,0]\n",
    "    image_metal=img_metal_all[i,:,:,0]\n",
    "    image_LIMAR=img_LIMAR_all[i,:,:,0]\n",
    "    image_NMAR=img_NMAR_all[i,:,:,0]\n",
    "    image_unet=img_unet_all[i,:,:,0]\n",
    "    image_pix2pix=img_pix2pix_all[i,:,:,0]\n",
    "    psnr_metal[i] = psnr(image_origin, image_metal)\n",
    "    psnr_LIMAR[i] = psnr(image_origin, image_LIMAR)\n",
    "    psnr_NMAR[i] = psnr(image_origin, image_NMAR)\n",
    "    psnr_unet[i] = psnr(image_origin, image_unet)\n",
    "    psnr_pix2pix[i] = psnr(image_origin, image_pix2pix)\n",
    "psnr_metal_total=psnr_metal.mean()\n",
    "psnr_LIMAR_total=psnr_LIMAR.mean()\n",
    "psnr_NMAR_total=psnr_NMAR.mean()\n",
    "psnr_unet_total=psnr_unet.mean()\n",
    "psnr_pix2pix_total=psnr_pix2pix.mean()\n",
    "print(psnr_metal_total)\n",
    "print(psnr_LIMAR_total)\n",
    "print(psnr_NMAR_total)\n",
    "print(psnr_unet_total)\n",
    "print(psnr_pix2pix_total)"
   ]
  },
  {
   "cell_type": "code",
   "execution_count": 38,
   "metadata": {},
   "outputs": [
    {
     "data": {
      "text/plain": [
       "4095"
      ]
     },
     "execution_count": 38,
     "metadata": {},
     "output_type": "execute_result"
    }
   ],
   "source": []
  },
  {
   "cell_type": "code",
   "execution_count": 13,
   "metadata": {},
   "outputs": [
    {
     "ename": "NameError",
     "evalue": "name 'img_metal_all_array' is not defined",
     "output_type": "error",
     "traceback": [
      "\u001b[0;31m---------------------------------------------------------------------------\u001b[0m",
      "\u001b[0;31mNameError\u001b[0m                                 Traceback (most recent call last)",
      "\u001b[0;32m<ipython-input-13-47fc62788dc9>\u001b[0m in \u001b[0;36m<module>\u001b[0;34m\u001b[0m\n\u001b[1;32m      1\u001b[0m \u001b[0mi\u001b[0m\u001b[0;34m=\u001b[0m\u001b[0;36m30\u001b[0m\u001b[0;34m\u001b[0m\u001b[0m\n\u001b[1;32m      2\u001b[0m \u001b[0;31m#fig,ax=plt.subplots(figsize=(6.4,4.8), dpi=300)\u001b[0m\u001b[0;34m\u001b[0m\u001b[0;34m\u001b[0m\u001b[0m\n\u001b[0;32m----> 3\u001b[0;31m \u001b[0mplt\u001b[0m\u001b[0;34m.\u001b[0m\u001b[0mimshow\u001b[0m\u001b[0;34m(\u001b[0m\u001b[0mimg_metal_all_array\u001b[0m\u001b[0;34m[\u001b[0m\u001b[0mi\u001b[0m\u001b[0;34m,\u001b[0m\u001b[0;34m:\u001b[0m\u001b[0;34m,\u001b[0m\u001b[0;34m:\u001b[0m\u001b[0;34m,\u001b[0m\u001b[0;36m0\u001b[0m\u001b[0;34m]\u001b[0m\u001b[0;34m.\u001b[0m\u001b[0mT\u001b[0m\u001b[0;34m,\u001b[0m\u001b[0mvmin\u001b[0m\u001b[0;34m=\u001b[0m\u001b[0;36m500\u001b[0m\u001b[0;34m,\u001b[0m\u001b[0mvmax\u001b[0m\u001b[0;34m=\u001b[0m\u001b[0;36m2000\u001b[0m\u001b[0;34m,\u001b[0m\u001b[0mcmap\u001b[0m\u001b[0;34m=\u001b[0m\u001b[0;34m'gray'\u001b[0m\u001b[0;34m)\u001b[0m\u001b[0;34m\u001b[0m\u001b[0m\n\u001b[0m\u001b[1;32m      4\u001b[0m \u001b[0mplt\u001b[0m\u001b[0;34m.\u001b[0m\u001b[0mshow\u001b[0m\u001b[0;34m(\u001b[0m\u001b[0;34m)\u001b[0m\u001b[0;34m\u001b[0m\u001b[0m\n\u001b[1;32m      5\u001b[0m \u001b[0;31m#fig.savefig('img_metal_'+str(i)+'.png')\u001b[0m\u001b[0;34m\u001b[0m\u001b[0;34m\u001b[0m\u001b[0m\n",
      "\u001b[0;31mNameError\u001b[0m: name 'img_metal_all_array' is not defined"
     ]
    }
   ],
   "source": [
    "i=30\n",
    "#fig,ax=plt.subplots(figsize=(6.4,4.8), dpi=300)\n",
    "plt.imshow(img_metal_all_array[i,:,:,0].T,vmin=500,vmax=2000,cmap='gray')\n",
    "plt.show()\n",
    "#fig.savefig('img_metal_'+str(i)+'.png')\n",
    "#fig,ax=plt.subplots(figsize=(6.4,4.8), dpi=300)\n",
    "plt.imshow(img_origin_all_array[i,:,:,0].T,vmin=500,vmax=2000,cmap='gray')\n",
    "plt.show()\n",
    "#fig.savefig('img_origin_'+str(i)+'.png')\n",
    "#fig,ax=plt.subplots(figsize=(6.4,4.8), dpi=300)\n",
    "plt.imshow(img_pred_all_array[i,:,:,0].T,vmin=500,vmax=2000,cmap='gray')\n",
    "plt.show()\n",
    "#fig.savefig('img_pred_'+str(i)+'.png')\n",
    "plt.imshow(img_LI_all_array[i,:,:,0].T,vmin=500,vmax=2000,cmap='gray')\n",
    "plt.show()\n",
    "plt.imshow(img_NMAR_all_array[i,:,:,0].T,vmin=500,vmax=2000,cmap='gray')\n",
    "plt.show()"
   ]
  },
  {
   "cell_type": "code",
   "execution_count": null,
   "metadata": {},
   "outputs": [],
   "source": [
    "i=0\n",
    "fig,ax=plt.subplots(figsize=(6.4,4.8), dpi=300)\n",
    "plt.imshow(img_metal_all_array[i,:,:,0]-img_origin_all_array[i,:,:,0],vmin=-500,vmax=1000,cmap='gray')\n",
    "plt.show()\n",
    "fig.savefig('img_metal_minus_origin_'+str(i)+'.png')\n",
    "fig,ax=plt.subplots(figsize=(6.4,4.8), dpi=300)\n",
    "plt.imshow(img_pred_all_array[i,:,:,0]-img_origin_all_array[i,:,:,0],vmin=-500,vmax=1000,cmap='gray')\n",
    "plt.show()\n",
    "fig.savefig('img_pred_minus_origin_'+str(i)+'.png')"
   ]
  },
  {
   "cell_type": "code",
   "execution_count": null,
   "metadata": {},
   "outputs": [],
   "source": [
    "from sklearn.metrics import mean_squared_error as mse\n",
    "from skimage.metrics import peak_signal_noise_ratio as psnr\n",
    "y_true=img_origin_all_array[0,:,:,0]\n",
    "y_pred=img_pred_all_array[0,:,:,0]\n",
    "mean_squared_error(y_true,y_pred)"
   ]
  },
  {
   "cell_type": "code",
   "execution_count": null,
   "metadata": {},
   "outputs": [],
   "source": [
    "import numpy as np   \n",
    "y_true=img_origin_all_array[:,:,:,:]\n",
    "y_pred=img_pred_all_array[:,:,:,:]\n",
    "y_metal=img_metal_all_array[:,:,:,:]\n",
    "y_LI=img_LI_all_array[:,:,:,:]\n",
    "y_NMAR=img_NMAR_all_array[:,:,:,:]\n",
    "MSE_pred = np.square(np.subtract(y_true,y_pred)).mean()\n",
    "print(MSE_pred)\n",
    "MSE_metal = np.square(np.subtract(y_true,y_metal)).mean()\n",
    "print(MSE_metal)\n",
    "MSE_LI = np.square(np.subtract(y_true,y_LI)).mean()\n",
    "print(MSE_LI)\n",
    "MSE_NMAR = np.square(np.subtract(y_true,y_NMAR)).mean()\n",
    "print(MSE_NMAR)"
   ]
  },
  {
   "cell_type": "code",
   "execution_count": null,
   "metadata": {},
   "outputs": [],
   "source": [
    "MAE_pred=np.abs(np.subtract(y_true,y_pred)).mean()\n",
    "print(MAE_pred)\n",
    "MAE_metal=np.abs(np.subtract(y_true,y_metal)).mean()\n",
    "print(MAE_metal)\n",
    "MAE_LI=np.abs(np.subtract(y_true,y_LI)).mean()\n",
    "print(MAE_LI)\n",
    "MAE_NMAR=np.abs(np.subtract(y_true,y_NMAR)).mean()\n",
    "print(MAE_NMAR)"
   ]
  },
  {
   "cell_type": "code",
   "execution_count": null,
   "metadata": {},
   "outputs": [],
   "source": [
    "M=2**16-1\n",
    "\n",
    "PSNR_pred=10*np.log10(M**2/MSE_pred)\n",
    "print(PSNR_pred)\n",
    "PSNR_metal=10*np.log10(M**2/MSE_metal)\n",
    "print(PSNR_metal)\n",
    "PSNR_LI=10*np.log10(M**2/MSE_LI)\n",
    "print(PSNR_LI)\n",
    "PSNR_NMAR=10*np.log10(M**2/MSE_NMAR)\n",
    "print(PSNR_NMAR)"
   ]
  },
  {
   "cell_type": "code",
   "execution_count": null,
   "metadata": {},
   "outputs": [],
   "source": [
    "2^16-1"
   ]
  },
  {
   "cell_type": "code",
   "execution_count": null,
   "metadata": {},
   "outputs": [],
   "source": [
    "plt.hist(imgmetal[0,:,:,0], bins=40, normed=0, facecolor=\"blue\", edgecolor=\"black\", alpha=0.7);"
   ]
  },
  {
   "cell_type": "code",
   "execution_count": null,
   "metadata": {},
   "outputs": [],
   "source": [
    "plt.hist(imggt[0,:,:,0], bins=40, normed=0, facecolor=\"blue\", edgecolor=\"black\", alpha=0.7);"
   ]
  },
  {
   "cell_type": "code",
   "execution_count": null,
   "metadata": {},
   "outputs": [],
   "source": [
    "plt.hist(imgpred[0,:,:,0], bins=40, normed=0, facecolor=\"blue\", edgecolor=\"black\", alpha=0.7);"
   ]
  },
  {
   "cell_type": "code",
   "execution_count": null,
   "metadata": {},
   "outputs": [],
   "source": [
    "plt.hist(imgmetal[0,:,:,0]-imgpred[0,:,:,0], bins=40, normed=0, facecolor=\"blue\", edgecolor=\"black\", alpha=0.7);"
   ]
  },
  {
   "cell_type": "code",
   "execution_count": null,
   "metadata": {},
   "outputs": [],
   "source": [
    "plt.hist(imggt[0,:,:,0]-imgpred[0,:,:,0], bins=40, normed=0, facecolor=\"blue\", edgecolor=\"black\", alpha=0.7);"
   ]
  },
  {
   "cell_type": "code",
   "execution_count": null,
   "metadata": {},
   "outputs": [],
   "source": [
    "a1npy = a1[:,:,:,0]\n",
    "a2npy = a2[:,:,:,0]\n",
    "a3npy = a3[:,:,:,0]\n",
    "a4npy = a4[:,:,:,0]\n",
    "a5npy = a5[:,:,:,0]"
   ]
  },
  {
   "cell_type": "code",
   "execution_count": null,
   "metadata": {},
   "outputs": [],
   "source": [
    "np.save(\"a1.npy\",a1npy)\n",
    "np.save(\"a2.npy\",a2npy)\n",
    "np.save(\"a3.npy\",a3npy)\n",
    "np.save(\"a4.npy\",a4npy)\n",
    "np.save(\"a5.npy\",a5npy)"
   ]
  },
  {
   "cell_type": "code",
   "execution_count": null,
   "metadata": {},
   "outputs": [],
   "source": [
    "bb = read_volume('data/outputstestc.tfrecord')\n",
    "b1 = session.run(bb)\n",
    "print(b1.shape)\n",
    "b2 = session.run(bb)\n",
    "print(b2.shape)\n",
    "b3 = session.run(bb)\n",
    "print(b2.shape)\n",
    "b4 = session.run(bb)\n",
    "print(b3.shape)\n",
    "b1npy = b1[:,:,:,0]\n",
    "b2npy = b2[:,:,:,0]\n",
    "b3npy = b3[:,:,:,0]\n",
    "b4npy = b4[:,:,:,0]\n",
    "np.save(\"b1.npy\",b1npy)\n",
    "np.save(\"b2.npy\",b2npy)\n",
    "np.save(\"b3.npy\",b3npy)\n",
    "np.save(\"b4.npy\",b4npy)"
   ]
  },
  {
   "cell_type": "code",
   "execution_count": null,
   "metadata": {},
   "outputs": [],
   "source": [
    "img1a = img1[0,:,:]"
   ]
  },
  {
   "cell_type": "code",
   "execution_count": null,
   "metadata": {},
   "outputs": [],
   "source": [
    "img1a = img1a.astype(np.uint16)"
   ]
  },
  {
   "cell_type": "code",
   "execution_count": null,
   "metadata": {},
   "outputs": [],
   "source": [
    "img1a"
   ]
  },
  {
   "cell_type": "code",
   "execution_count": null,
   "metadata": {},
   "outputs": [],
   "source": [
    "matplotlib.image.imsave('img1a.png', img1a)"
   ]
  },
  {
   "cell_type": "code",
   "execution_count": null,
   "metadata": {},
   "outputs": [],
   "source": [
    "numpngw.write_png('img1a.png', img1a)"
   ]
  },
  {
   "cell_type": "code",
   "execution_count": null,
   "metadata": {},
   "outputs": [],
   "source": [
    "sum(abs(bb))"
   ]
  },
  {
   "cell_type": "code",
   "execution_count": null,
   "metadata": {},
   "outputs": [],
   "source": [
    "plt.hist(aa, bins=40, normed=0, facecolor=\"blue\", edgecolor=\"black\", alpha=0.7)"
   ]
  },
  {
   "cell_type": "code",
   "execution_count": null,
   "metadata": {},
   "outputs": [],
   "source": [
    "bb = targets[i,250,:,0] - outputs5[i,250,:,0]"
   ]
  },
  {
   "cell_type": "code",
   "execution_count": null,
   "metadata": {},
   "outputs": [],
   "source": [
    "bb"
   ]
  },
  {
   "cell_type": "code",
   "execution_count": null,
   "metadata": {},
   "outputs": [],
   "source": [
    "plt.hist(bb, bins=40, normed=0, facecolor=\"blue\", edgecolor=\"black\", alpha=0.7)"
   ]
  },
  {
   "cell_type": "code",
   "execution_count": null,
   "metadata": {},
   "outputs": [],
   "source": [
    "ct_prediction[150,1:5,1:5,0]"
   ]
  },
  {
   "cell_type": "code",
   "execution_count": null,
   "metadata": {},
   "outputs": [],
   "source": [
    "ct_prediction.min()"
   ]
  },
  {
   "cell_type": "code",
   "execution_count": null,
   "metadata": {},
   "outputs": [],
   "source": [
    "import numpy as np\n",
    "import tensorflow as tf\n",
    "\n",
    "from mrtoct import data, ioutil\n",
    "\n",
    "from matplotlib import pyplot as plt\n",
    "\n",
    "#transform = data.transform.DecodeExample()\n",
    "pre_transform = data.transform.Compose([\n",
    "    data.transform.DecodeExample(),\n",
    "    data.transform.ConstNormalization(tf.uint16.max),\n",
    "])\n",
    "post_transform = data.transform.CropOrPad2D(384, 384)\n",
    "volume = 0\n",
    "slice = 0\n",
    "\n",
    "def read_volume(path):\n",
    "    return (tf.data\n",
    "            .TFRecordDataset(path, 'GZIP')\n",
    "            .map(pre_transform)\n",
    "            .skip(volume).take(1)\n",
    "            .apply(tf.contrib.data.unbatch())\n",
    "            #.map(post_transform)\n",
    "            #.skip(slice)\n",
    "            .batch(2)\n",
    "            .make_one_shot_iterator()\n",
    "            .get_next())\n",
    "\n",
    "session = tf.Session()"
   ]
  },
  {
   "cell_type": "code",
   "execution_count": null,
   "metadata": {},
   "outputs": [],
   "source": [
    "mr_tensor = read_volume('ctniifile/patient_ct.tfrecord')"
   ]
  },
  {
   "cell_type": "code",
   "execution_count": null,
   "metadata": {},
   "outputs": [],
   "source": [
    "while True:\n",
    "    try:\n",
    "        mr = session.run(mr_tensor)\n",
    "        print(mr.shape)\n",
    "    except Exception as OutOfRangeError:\n",
    "        #print(OutOfRangeError.__doc__)\n",
    "        print(OutOfRangeError.message)\n",
    "        break"
   ]
  },
  {
   "cell_type": "code",
   "execution_count": null,
   "metadata": {},
   "outputs": [],
   "source": [
    "mr.shape"
   ]
  },
  {
   "cell_type": "code",
   "execution_count": null,
   "metadata": {},
   "outputs": [],
   "source": [
    "plt.imshow(mr[2,:,:,0], cmap='gray')\n",
    "plt.show()"
   ]
  },
  {
   "cell_type": "code",
   "execution_count": null,
   "metadata": {},
   "outputs": [],
   "source": []
  },
  {
   "cell_type": "code",
   "execution_count": null,
   "metadata": {},
   "outputs": [],
   "source": [
    "\n",
    "inputs_dataset = (tf.data\n",
    "                  .TFRecordDataset(inputs_path, ioutil.TFRecordCString)\n",
    "                  .map(pre_transform)\n",
    "                  .skip(volume).take(1)\n",
    "                  .apply(tf.contrib.data.unbatch())\n",
    "                  .map(post_transform)\n",
    "                  .skip(slice))"
   ]
  }
 ],
 "metadata": {
  "kernelspec": {
   "display_name": "Python 3",
   "language": "python",
   "name": "python3"
  },
  "language_info": {
   "codemirror_mode": {
    "name": "ipython",
    "version": 3
   },
   "file_extension": ".py",
   "mimetype": "text/x-python",
   "name": "python",
   "nbconvert_exporter": "python",
   "pygments_lexer": "ipython3",
   "version": "3.6.2"
  }
 },
 "nbformat": 4,
 "nbformat_minor": 2
}
