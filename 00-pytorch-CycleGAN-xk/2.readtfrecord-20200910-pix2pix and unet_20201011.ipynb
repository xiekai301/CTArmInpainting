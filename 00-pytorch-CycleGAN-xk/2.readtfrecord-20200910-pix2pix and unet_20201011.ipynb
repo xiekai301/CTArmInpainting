{
 "cells": [
  {
   "cell_type": "code",
   "execution_count": 1,
   "metadata": {},
   "outputs": [],
   "source": [
    "import numpy as np\n",
    "import os\n",
    "import matplotlib.pyplot as plt"
   ]
  },
  {
   "cell_type": "code",
   "execution_count": 2,
   "metadata": {},
   "outputs": [],
   "source": [
    "import matplotlib.pyplot as plt\n",
    "import matplotlib\n",
    "# %matplotlib qt5\n",
    "# matplotlib.use('Agg')"
   ]
  },
  {
   "cell_type": "code",
   "execution_count": 3,
   "metadata": {},
   "outputs": [
    {
     "data": {
      "image/png": "[encoded data removed]",
      "text/plain": [
       "<Figure size 432x288 with 1 Axes>"
      ]
     },
     "metadata": {
      "needs_background": "light"
     },
     "output_type": "display_data"
    }
   ],
   "source": [
    "img_path = '/home/czey/generative_inpainting/training_data/CTArmNpy/training_pix2pix_trainAtrainB/trainBnew/Y170109/1005B.npy'\n",
    "img = np.load(img_path)\n",
    "plt.imshow(img,vmin=-260+1024,vmax=340+1024,cmap='gray')\n",
    "plt.show()"
   ]
  },
  {
   "cell_type": "code",
   "execution_count": 59,
   "metadata": {},
   "outputs": [
    {
     "data": {
      "text/plain": [
       "'Y191210'"
      ]
     },
     "execution_count": 59,
     "metadata": {},
     "output_type": "execute_result"
    }
   ],
   "source": [
    "patient_names[patient_id]"
   ]
  },
  {
   "cell_type": "code",
   "execution_count": 63,
   "metadata": {},
   "outputs": [],
   "source": [
    "import numpy as np\n",
    "from skimage.metrics import mean_squared_error as mse\n",
    "# from skimage.measure import compare_mse as mse2\n",
    "from skimage.metrics import normalized_root_mse as nrm\n",
    "from skimage.metrics import peak_signal_noise_ratio as psnr\n",
    "from skimage.metrics import structural_similarity as ssim\n",
    "def mae(img1, img2):\n",
    "    mae = np.mean( abs(img1 - img2)  )\n",
    "    return mae\n",
    "\n",
    "def mse2(img1, img2):\n",
    "    mse = np.mean( (img1 - img2) ** 2  )\n",
    "    return mse"
   ]
  },
  {
   "cell_type": "code",
   "execution_count": 70,
   "metadata": {},
   "outputs": [
    {
     "name": "stdout",
     "output_type": "stream",
     "text": [
      "-3012.3237 1178.4777\n"
     ]
    }
   ],
   "source": [
    "error = unet256_fakeBs[0,:,:]-imgs_realA[0,:,:]\n",
    "print(error.min(),error.max())"
   ]
  },
  {
   "cell_type": "code",
   "execution_count": 71,
   "metadata": {
    "scrolled": true
   },
   "outputs": [
    {
     "name": "stdout",
     "output_type": "stream",
     "text": [
      "patient_id:  6\n",
      "mae of realA:  12.974535\n",
      "mae of unet:  5.0654283\n",
      "mae of pix2pix:  5.0295863\n",
      "mae of cyclegan:  5.2538486\n",
      "mae of LIMAR:  16.027452\n",
      "mae of NMAR:  18.07495\n",
      "mse of realA:  6316.006614021974\n",
      "mse of unet:  637.0786907651197\n",
      "mse of pix2pix:  634.6857093580286\n",
      "mse of cyclegan:  695.3010865896123\n",
      "mse of LIMAR:  5833.126633310855\n",
      "mse of NMAR:  6289.270641902879\n",
      "mse of realA:  5113.404\n",
      "mse of unet:  6026.8413\n",
      "mse of pix2pix:  634.68567\n",
      "mse of cyclegan:  695.3014\n",
      "mse of LIMAR:  5833.131\n",
      "mse of NMAR:  6289.2583\n"
     ]
    }
   ],
   "source": [
    "# for patient_id in range(1,2):\n",
    "patient_id = 6\n",
    "i=39\n",
    "path_unet = '/media/czey/Elements/0_test_validation_v2/test_unet'\n",
    "path_pix2pix = '/media/czey/Elements/0_test_validation_v2/test_pix2pix'\n",
    "path_cyclegan = '/media/czey/Elements/0_test_validation_v2/test_cyclegan'\n",
    "path_LIMAR = '/home/czey/generative_inpainting/CTarms_201116/npytodoTPS/LIMAR'\n",
    "path_NMAR = '/home/czey/generative_inpainting/CTarms_201116/npytodoTPS/NMAR'\n",
    "patient_names = sorted(os.listdir(path_unet))\n",
    "patient_path = os.path.join(path_unet, patient_names[patient_id])\n",
    "npy_names = sorted(os.listdir(patient_path))\n",
    "realA_names = [x for x in npy_names if 'realA.npy' in x]\n",
    "realB_names = [x for x in npy_names if 'realB.npy' in x]\n",
    "fakeB_names = [x for x in npy_names if 'fakeB.npy' in x]\n",
    "# realA_names\n",
    "\n",
    "imgs_realA=[]\n",
    "imgs_realB = []\n",
    "unet256_fakeBs = []\n",
    "pix2pix_fakeBs = []\n",
    "cyclegan_fakeBs = []\n",
    "LIMAR_fakeBs = []\n",
    "NMAR_fakeBs = []\n",
    "\n",
    "for realA, realB, fakeB in zip(realA_names, realB_names, fakeB_names): \n",
    "#     print(realA)\n",
    "    img_realA = np.load(os.path.join(path_unet, patient_names[patient_id], realA))\n",
    "    img_realB = np.load(os.path.join(path_unet, patient_names[patient_id], realB))\n",
    "    unet256_fakeB = np.load(os.path.join(path_unet, patient_names[patient_id], fakeB))\n",
    "    pix2pix_fakeB = np.load(os.path.join(path_pix2pix, patient_names[patient_id], fakeB))\n",
    "    cyclegan_fakeB = np.load(os.path.join(path_cyclegan, patient_names[patient_id], fakeB))\n",
    "    LIMAR_fakeB = np.load(os.path.join(path_LIMAR, patient_names[patient_id], fakeB[:5]+'.npy'))\n",
    "    NMAR_fakeB = np.load(os.path.join(path_NMAR, patient_names[patient_id], fakeB[:5]+'.npy'))\n",
    "\n",
    "    img_realA = (np.squeeze(img_realA,1) + 1) /2 * 4095\n",
    "    img_realB = (np.squeeze(img_realB,1) + 1) /2 * 4095\n",
    "    unet256_fakeB = (np.squeeze(unet256_fakeB,1) + 1) /2 * 4095\n",
    "    pix2pix_fakeB = (np.squeeze(pix2pix_fakeB,1) + 1) /2 * 4095\n",
    "    cyclegan_fakeB = (np.squeeze(cyclegan_fakeB,1) + 1) /2 * 4095\n",
    "    LIMAR_fakeB = np.expand_dims(LIMAR_fakeB, 0)\n",
    "    NMAR_fakeB = np.expand_dims(NMAR_fakeB, 0)\n",
    "\n",
    "    imgs_realA.append(img_realA)\n",
    "    imgs_realB.append(img_realB)\n",
    "    unet256_fakeBs.append(unet256_fakeB)  \n",
    "    pix2pix_fakeBs.append(pix2pix_fakeB)\n",
    "    cyclegan_fakeBs.append(cyclegan_fakeB)\n",
    "    LIMAR_fakeBs.append(LIMAR_fakeB)\n",
    "    NMAR_fakeBs.append(NMAR_fakeB)\n",
    "\n",
    "imgs_realA = np.vstack(imgs_realA)\n",
    "imgs_realB = np.vstack(imgs_realB)\n",
    "unet256_fakeBs = np.vstack(unet256_fakeBs)\n",
    "pix2pix_fakeBs = np.vstack(pix2pix_fakeBs)\n",
    "cyclegan_fakeBs = np.vstack(cyclegan_fakeBs)\n",
    "LIMAR_fakeBs = np.vstack(LIMAR_fakeBs)\n",
    "NMAR_fakeBs = np.vstack(NMAR_fakeBs)\n",
    "print(\"patient_id: \", patient_id)\n",
    "\n",
    "print('mae of realA: ',mae(imgs_realA, imgs_realB))\n",
    "print('mae of unet: ',mae(unet256_fakeBs, imgs_realB))\n",
    "print('mae of pix2pix: ',mae(pix2pix_fakeBs, imgs_realB))\n",
    "print('mae of cyclegan: ',mae(cyclegan_fakeBs, imgs_realB))\n",
    "print('mae of LIMAR: ',mae(LIMAR_fakeBs, imgs_realB))\n",
    "print('mae of NMAR: ',mae(NMAR_fakeBs, imgs_realB))\n",
    "\n",
    "print('mse of realA: ',mse(imgs_realA, imgs_realB))\n",
    "print('mse of unet: ',mse(unet256_fakeBs, imgs_realB))\n",
    "print('mse of pix2pix: ',mse(pix2pix_fakeBs, imgs_realB))\n",
    "print('mse of cyclegan: ',mse(cyclegan_fakeBs, imgs_realB))\n",
    "print('mse of LIMAR: ',mse(LIMAR_fakeBs, imgs_realB))\n",
    "print('mse of NMAR: ',mse(NMAR_fakeBs, imgs_realB))\n",
    "\n",
    "print('mse of realA: ',mse2(imgs_realA, imgs_realB))\n",
    "print('mse of unet: ',mse2(unet256_fakeBs, imgs_realB))\n",
    "print('mse of pix2pix: ',mse2(pix2pix_fakeBs, imgs_realB))\n",
    "print('mse of cyclegan: ',mse2(cyclegan_fakeBs, imgs_realB))\n",
    "print('mse of LIMAR: ',mse2(LIMAR_fakeBs, imgs_realB))\n",
    "print('mse of NMAR: ',mse2(NMAR_fakeBs, imgs_realB))\n",
    "\n",
    "# print('psnr of realA: ',psnr(imgs_realA.astype('uint16'), imgs_realB.astype('uint16')))\n",
    "# print('psnr of unet: ',psnr(unet256_fakeBs.astype('uint16'), imgs_realB.astype('uint16')))\n",
    "# print('psnr of pix2pix: ',psnr(pix2pix_fakeBs.astype('uint16'), imgs_realB.astype('uint16')))\n",
    "# print('psnr of cyclegan: ',psnr(cyclegan_fakeBs.astype('uint16'), imgs_realB.astype('uint16')))\n",
    "# print('psnr of LIMAR: ',psnr(LIMAR_fakeBs.astype('uint16'), imgs_realB.astype('uint16')))\n",
    "# print('psnr of NMAR: ',psnr(NMAR_fakeBs.astype('uint16'), imgs_realB.astype('uint16')))\n",
    "# print('ssim of realA: ',ssim(imgs_realA/4095, imgs_realB/4095))\n",
    "# print('ssim of unet: ',ssim(unet256_fakeBs/4095, imgs_realB/4095))\n",
    "# print('ssim of pix2pix: ',ssim(pix2pix_fakeBs/4095, imgs_realB/4095))\n",
    "# print('ssim of cyclegan: ',ssim(cyclegan_fakeBs/4095, imgs_realB/4095))\n",
    "# print('ssim of LIMAR: ',ssim(LIMAR_fakeBs.astype('float32')/4095, imgs_realB.astype('float32')/4095))\n",
    "# print('ssim of NMAR: ',ssim(NMAR_fakeBs.astype('float32')/4095, imgs_realB.astype('float32')/4095))\n",
    "\n",
    "# for i in range(0,unet256_fakeBs.shape[0], 3):\n",
    "\n",
    "# fig,ax=plt.subplots(figsize=(6.4,4.8), dpi=300)\n",
    "# plt.imshow(imgs_realA[i,:,:],vmin=-300+1024,vmax=700+1024,cmap='gray')\n",
    "# plt.title('realA')\n",
    "# plt.savefig('visual_result/%02d_%03d_0realA.png' % (patient_id, i), bbox_inches='tight')\n",
    "\n",
    "# fig,ax=plt.subplots(figsize=(6.4,4.8), dpi=300)\n",
    "# plt.imshow(imgs_realB[i,:,:],vmin=-300+1024,vmax=700+1024,cmap='gray')\n",
    "# plt.title('realB')\n",
    "# plt.savefig('visual_result/%02d_%03d_0realB.png' % (patient_id, i), bbox_inches='tight')\n",
    "\n",
    "# fig,ax=plt.subplots(figsize=(6.4,4.8), dpi=300)\n",
    "# plt.imshow(unet256_fakeBs[i,:,:],vmin=-300+1024,vmax=700+1024,cmap='gray')\n",
    "# plt.title('unet256')\n",
    "# plt.savefig('visual_result/%02d_%03d_1unet.png' % (patient_id, i), bbox_inches='tight')\n",
    "\n",
    "\n",
    "# fig,ax=plt.subplots(figsize=(6.4,4.8), dpi=300)\n",
    "# plt.imshow(pix2pix_fakeBs[i,:,:],vmin=-300+1024,vmax=700+1024,cmap='gray')\n",
    "# plt.title('pix2pix')\n",
    "# plt.savefig('visual_result/%02d_%03d_2pix2pix.png' % (patient_id, i), bbox_inches='tight')\n",
    "\n",
    "# fig,ax=plt.subplots(figsize=(6.4,4.8), dpi=300)\n",
    "# plt.imshow(cyclegan_fakeBs[i,:,:],vmin=-300+1024,vmax=700+1024,cmap='gray')\n",
    "# plt.title('cyclegan')\n",
    "# plt.savefig('visual_result/%02d_%03d_3cyclegan.png' % (patient_id, i), bbox_inches='tight')\n",
    "\n",
    "# fig,ax=plt.subplots(figsize=(6.4,4.8), dpi=300)\n",
    "# plt.imshow(LIMAR_fakeBs[i,:,:],vmin=-300+1024,vmax=700+1024,cmap='gray')\n",
    "# plt.title('LIMAR')\n",
    "# plt.savefig('visual_result/%02d_%03d_4LIMAR.png' % (patient_id, i), bbox_inches='tight')\n",
    "\n",
    "# fig,ax=plt.subplots(figsize=(6.4,4.8), dpi=300)\n",
    "# plt.imshow(NMAR_fakeBs[i,:,:],vmin=-300+1024,vmax=700+1024,cmap='gray')\n",
    "# plt.title('cyclegan')\n",
    "# plt.savefig('visual_result/%02d_%03d_5NMAR.png' % (patient_id, i), bbox_inches='tight')\n",
    "\n",
    "# fig,ax=plt.subplots(figsize=(6.4,4.8), dpi=300)\n",
    "# plt.imshow(unet256_fakeBs[i,:,:]-imgs_realB[i,:,:], vmin=-400,vmax=400, cmap='bwr')\n",
    "# plt.colorbar()\n",
    "# plt.title('unet256-realB')\n",
    "# # plt.savefig('method_result_compare/%03d_9unet-origin.png' % i, bbox_inches='tight')\n",
    "\n",
    "# fig,ax=plt.subplots(figsize=(6.4,4.8), dpi=300)\n",
    "# plt.imshow(pix2pix_fakeBs[i,:,:]-imgs_realB[i,:,:], vmin=-400,vmax=400, cmap='bwr')\n",
    "# plt.colorbar()\n",
    "# plt.title('pix2pix-realB')\n",
    "# # plt.savefig('method_result_compare/%03d_9unet-origin.png' % i, bbox_inches='tight')\n",
    "\n",
    "# fig,ax=plt.subplots(figsize=(6.4,4.8), dpi=300)\n",
    "# plt.imshow(cyclegan_fakeBs[i,:,:]-imgs_realB[i,:,:], vmin=-400,vmax=400, cmap='bwr')\n",
    "# plt.colorbar()\n",
    "# plt.title('cyclegan-realB')\n",
    "# # plt.savefig('method_result_compare/%03d_9unet-origin.png' % i, bbox_inches='tight')"
   ]
  },
  {
   "cell_type": "code",
   "execution_count": 6,
   "metadata": {},
   "outputs": [],
   "source": [
    "img_unet_all=np.int16(img_unet_all)\n",
    "np.save('img_unet_all.npy',img_unet_all)"
   ]
  },
  {
   "cell_type": "code",
   "execution_count": 15,
   "metadata": {},
   "outputs": [],
   "source": [
    "img_pix2pix_all=np.int16(img_pix2pix_all)\n",
    "np.save('img_pix2pix_all.npy',img_pix2pix_all)"
   ]
  },
  {
   "cell_type": "code",
   "execution_count": 7,
   "metadata": {},
   "outputs": [],
   "source": [
    "# img_pred_all_array[img_pred_all_array>3900]=9000"
   ]
  },
  {
   "cell_type": "code",
   "execution_count": 49,
   "metadata": {},
   "outputs": [
    {
     "data": {
      "text/plain": [
       "Text(0.5, 1.0, 'img_origin')"
      ]
     },
     "execution_count": 49,
     "metadata": {},
     "output_type": "execute_result"
    }
   ],
   "source": [
    "i=49\n",
    "# img_origin[i,:,:,0][img_origin[i,:,:,0]>4000]=4000\n",
    "fig,ax=plt.subplots(figsize=(6.4,4.8), dpi=300)\n",
    "plt.imshow(img_origin_all[i,:,:,0],vmin=500,vmax=2000,cmap='gray')\n",
    "plt.title('img_origin')"
   ]
  },
  {
   "cell_type": "code",
   "execution_count": 19,
   "metadata": {},
   "outputs": [
    {
     "data": {
      "text/plain": [
       "-5.570781707763672"
      ]
     },
     "execution_count": 19,
     "metadata": {},
     "output_type": "execute_result"
    }
   ],
   "source": [
    "(img_pix2pix_all[i,:,:,0]-img_origin_all[i,:,:,0]).flatten().mean()"
   ]
  },
  {
   "cell_type": "code",
   "execution_count": 18,
   "metadata": {},
   "outputs": [
    {
     "name": "stderr",
     "output_type": "stream",
     "text": [
      "/home/czey/anaconda3/envs/tf/lib/python3.6/site-packages/ipykernel_launcher.py:1: RuntimeWarning: More than 20 figures have been opened. Figures created through the pyplot interface (`matplotlib.pyplot.figure`) are retained until explicitly closed and may consume too much memory. (To control this warning, see the rcParam `figure.max_open_warning`).\n",
      "  \"\"\"Entry point for launching an IPython kernel.\n"
     ]
    }
   ],
   "source": [
    "fig,ax=plt.subplots(figsize=(6.4,4.8), dpi=300)\n",
    "plt.hist((img_LIMAR_all-img_origin_all).flatten(), color='royalblue', edgecolor='k',bins=700)\n",
    "plt.xlim(-100, 100)\n",
    "plt.xlabel('CT Number Difference (HU)')\n",
    "plt.ylabel('Number of Bins')\n",
    "plt.savefig('method_result_compare/hist_LIMAR-origin.png', bbox_inches='tight')"
   ]
  },
  {
   "cell_type": "code",
   "execution_count": 19,
   "metadata": {},
   "outputs": [
    {
     "name": "stderr",
     "output_type": "stream",
     "text": [
      "/home/czey/anaconda3/envs/tf/lib/python3.6/site-packages/ipykernel_launcher.py:1: RuntimeWarning: More than 20 figures have been opened. Figures created through the pyplot interface (`matplotlib.pyplot.figure`) are retained until explicitly closed and may consume too much memory. (To control this warning, see the rcParam `figure.max_open_warning`).\n",
      "  \"\"\"Entry point for launching an IPython kernel.\n"
     ]
    }
   ],
   "source": [
    "fig,ax=plt.subplots(figsize=(6.4,4.8), dpi=300)\n",
    "plt.hist((img_NMAR_all-img_origin_all).flatten(), color='royalblue', edgecolor='k',bins=700)\n",
    "plt.xlim(-100, 100)\n",
    "plt.xlabel('CT Number Difference (HU)')\n",
    "plt.ylabel('Number of Bins')\n",
    "plt.savefig('method_result_compare/hist_NMAR-origin.png', bbox_inches='tight')"
   ]
  },
  {
   "cell_type": "code",
   "execution_count": 20,
   "metadata": {},
   "outputs": [
    {
     "name": "stderr",
     "output_type": "stream",
     "text": [
      "/home/czey/anaconda3/envs/tf/lib/python3.6/site-packages/ipykernel_launcher.py:1: RuntimeWarning: More than 20 figures have been opened. Figures created through the pyplot interface (`matplotlib.pyplot.figure`) are retained until explicitly closed and may consume too much memory. (To control this warning, see the rcParam `figure.max_open_warning`).\n",
      "  \"\"\"Entry point for launching an IPython kernel.\n"
     ]
    }
   ],
   "source": [
    "fig,ax=plt.subplots(figsize=(6.4,4.8), dpi=300)\n",
    "plt.hist((img_unet_all-img_origin_all).flatten(), color='royalblue', edgecolor='k',bins=700)\n",
    "plt.xlim(-100, 100)\n",
    "plt.xlabel('CT Number Difference (HU)')\n",
    "plt.ylabel('Number of Bins')\n",
    "plt.savefig('method_result_compare/hist_unet-origin.png', bbox_inches='tight')"
   ]
  },
  {
   "cell_type": "code",
   "execution_count": 21,
   "metadata": {},
   "outputs": [
    {
     "name": "stderr",
     "output_type": "stream",
     "text": [
      "/home/czey/anaconda3/envs/tf/lib/python3.6/site-packages/ipykernel_launcher.py:1: RuntimeWarning: More than 20 figures have been opened. Figures created through the pyplot interface (`matplotlib.pyplot.figure`) are retained until explicitly closed and may consume too much memory. (To control this warning, see the rcParam `figure.max_open_warning`).\n",
      "  \"\"\"Entry point for launching an IPython kernel.\n"
     ]
    }
   ],
   "source": [
    "fig,ax=plt.subplots(figsize=(6.4,4.8), dpi=300)\n",
    "plt.hist((img_pix2pix_all-img_origin_all).flatten(), color='royalblue', edgecolor='k',bins=700)\n",
    "plt.xlim(-100, 100)\n",
    "plt.xlabel('CT Number Difference (HU)')\n",
    "plt.ylabel('Number of Bins')\n",
    "plt.savefig('method_result_compare/hist_pix2pix-origin.png', bbox_inches='tight')"
   ]
  },
  {
   "cell_type": "code",
   "execution_count": 44,
   "metadata": {},
   "outputs": [
    {
     "data": {
      "text/plain": [
       "[<matplotlib.lines.Line2D at 0x7fbb6f0912b0>]"
      ]
     },
     "execution_count": 44,
     "metadata": {},
     "output_type": "execute_result"
    },
    {
     "data": {
      "image/png": "[encoded data removed]",
      "text/plain": [
       "<Figure size 432x288 with 1 Axes>"
      ]
     },
     "metadata": {
      "needs_background": "light"
     },
     "output_type": "display_data"
    }
   ],
   "source": [
    "import numpy as np\n",
    "import matplotlib.pyplot as plt\n",
    "\n",
    "import matplotlib.pyplot as plt\n",
    "import matplotlib.ticker as mticker  \n",
    "x = [i * 2872155 for i in range(1, 11)]\n",
    "y = [0.219, 0.402,  0.543,  0.646,0.765,  0.880,1.169, 1.358,1.492,1.611]\n",
    "\n",
    "plt.gca().yaxis.set_major_formatter(mticker.FormatStrFormatter('%.1f s'))\n",
    "plt.plot(x, y)\n"
   ]
  },
  {
   "cell_type": "code",
   "execution_count": 6,
   "metadata": {},
   "outputs": [],
   "source": [
    "# import cv2 as cv\n",
    "# from skimage.metrics import structural_similarity as ssim\n",
    "# img_origin_all=np.vstack(img_origin_all)\n",
    "# img_metal_all=np.vstack(img_metal_all)\n",
    "# img_unet_all=np.vstack(img_unet_all)\n",
    "# img_pix2pix_all=np.vstack(img_pix2pix_all)\n",
    "\n",
    "\n",
    "# print(img_origin_all.shape)\n",
    "# print(img_metal_all.shape)\n",
    "# print(img_unet_all.shape)\n",
    "# print(img_pix2pix_all.shape)"
   ]
  },
  {
   "cell_type": "code",
   "execution_count": 38,
   "metadata": {},
   "outputs": [
    {
     "data": {
      "text/plain": [
       "4095"
      ]
     },
     "execution_count": 38,
     "metadata": {},
     "output_type": "execute_result"
    }
   ],
   "source": []
  },
  {
   "cell_type": "code",
   "execution_count": 13,
   "metadata": {},
   "outputs": [
    {
     "ename": "NameError",
     "evalue": "name 'img_metal_all_array' is not defined",
     "output_type": "error",
     "traceback": [
      "\u001b[0;31m---------------------------------------------------------------------------\u001b[0m",
      "\u001b[0;31mNameError\u001b[0m                                 Traceback (most recent call last)",
      "\u001b[0;32m<ipython-input-13-47fc62788dc9>\u001b[0m in \u001b[0;36m<module>\u001b[0;34m\u001b[0m\n\u001b[1;32m      1\u001b[0m \u001b[0mi\u001b[0m\u001b[0;34m=\u001b[0m\u001b[0;36m30\u001b[0m\u001b[0;34m\u001b[0m\u001b[0m\n\u001b[1;32m      2\u001b[0m \u001b[0;31m#fig,ax=plt.subplots(figsize=(6.4,4.8), dpi=300)\u001b[0m\u001b[0;34m\u001b[0m\u001b[0;34m\u001b[0m\u001b[0m\n\u001b[0;32m----> 3\u001b[0;31m \u001b[0mplt\u001b[0m\u001b[0;34m.\u001b[0m\u001b[0mimshow\u001b[0m\u001b[0;34m(\u001b[0m\u001b[0mimg_metal_all_array\u001b[0m\u001b[0;34m[\u001b[0m\u001b[0mi\u001b[0m\u001b[0;34m,\u001b[0m\u001b[0;34m:\u001b[0m\u001b[0;34m,\u001b[0m\u001b[0;34m:\u001b[0m\u001b[0;34m,\u001b[0m\u001b[0;36m0\u001b[0m\u001b[0;34m]\u001b[0m\u001b[0;34m.\u001b[0m\u001b[0mT\u001b[0m\u001b[0;34m,\u001b[0m\u001b[0mvmin\u001b[0m\u001b[0;34m=\u001b[0m\u001b[0;36m500\u001b[0m\u001b[0;34m,\u001b[0m\u001b[0mvmax\u001b[0m\u001b[0;34m=\u001b[0m\u001b[0;36m2000\u001b[0m\u001b[0;34m,\u001b[0m\u001b[0mcmap\u001b[0m\u001b[0;34m=\u001b[0m\u001b[0;34m'gray'\u001b[0m\u001b[0;34m)\u001b[0m\u001b[0;34m\u001b[0m\u001b[0m\n\u001b[0m\u001b[1;32m      4\u001b[0m \u001b[0mplt\u001b[0m\u001b[0;34m.\u001b[0m\u001b[0mshow\u001b[0m\u001b[0;34m(\u001b[0m\u001b[0;34m)\u001b[0m\u001b[0;34m\u001b[0m\u001b[0m\n\u001b[1;32m      5\u001b[0m \u001b[0;31m#fig.savefig('img_metal_'+str(i)+'.png')\u001b[0m\u001b[0;34m\u001b[0m\u001b[0;34m\u001b[0m\u001b[0m\n",
      "\u001b[0;31mNameError\u001b[0m: name 'img_metal_all_array' is not defined"
     ]
    }
   ],
   "source": [
    "i=30\n",
    "#fig,ax=plt.subplots(figsize=(6.4,4.8), dpi=300)\n",
    "plt.imshow(img_metal_all_array[i,:,:,0].T,vmin=500,vmax=2000,cmap='gray')\n",
    "plt.show()\n",
    "#fig.savefig('img_metal_'+str(i)+'.png')\n",
    "#fig,ax=plt.subplots(figsize=(6.4,4.8), dpi=300)\n",
    "plt.imshow(img_origin_all_array[i,:,:,0].T,vmin=500,vmax=2000,cmap='gray')\n",
    "plt.show()\n",
    "#fig.savefig('img_origin_'+str(i)+'.png')\n",
    "#fig,ax=plt.subplots(figsize=(6.4,4.8), dpi=300)\n",
    "plt.imshow(img_pred_all_array[i,:,:,0].T,vmin=500,vmax=2000,cmap='gray')\n",
    "plt.show()\n",
    "#fig.savefig('img_pred_'+str(i)+'.png')\n",
    "plt.imshow(img_LI_all_array[i,:,:,0].T,vmin=500,vmax=2000,cmap='gray')\n",
    "plt.show()\n",
    "plt.imshow(img_NMAR_all_array[i,:,:,0].T,vmin=500,vmax=2000,cmap='gray')\n",
    "plt.show()"
   ]
  },
  {
   "cell_type": "code",
   "execution_count": null,
   "metadata": {},
   "outputs": [],
   "source": [
    "i=0\n",
    "fig,ax=plt.subplots(figsize=(6.4,4.8), dpi=300)\n",
    "plt.imshow(img_metal_all_array[i,:,:,0]-img_origin_all_array[i,:,:,0],vmin=-500,vmax=1000,cmap='gray')\n",
    "plt.show()\n",
    "fig.savefig('img_metal_minus_origin_'+str(i)+'.png')\n",
    "fig,ax=plt.subplots(figsize=(6.4,4.8), dpi=300)\n",
    "plt.imshow(img_pred_all_array[i,:,:,0]-img_origin_all_array[i,:,:,0],vmin=-500,vmax=1000,cmap='gray')\n",
    "plt.show()\n",
    "fig.savefig('img_pred_minus_origin_'+str(i)+'.png')"
   ]
  },
  {
   "cell_type": "code",
   "execution_count": null,
   "metadata": {},
   "outputs": [],
   "source": [
    "from sklearn.metrics import mean_squared_error as mse\n",
    "from skimage.metrics import peak_signal_noise_ratio as psnr\n",
    "y_true=img_origin_all_array[0,:,:,0]\n",
    "y_pred=img_pred_all_array[0,:,:,0]\n",
    "mean_squared_error(y_true,y_pred)"
   ]
  },
  {
   "cell_type": "code",
   "execution_count": null,
   "metadata": {},
   "outputs": [],
   "source": [
    "import numpy as np   \n",
    "y_true=img_origin_all_array[:,:,:,:]\n",
    "y_pred=img_pred_all_array[:,:,:,:]\n",
    "y_metal=img_metal_all_array[:,:,:,:]\n",
    "y_LI=img_LI_all_array[:,:,:,:]\n",
    "y_NMAR=img_NMAR_all_array[:,:,:,:]\n",
    "MSE_pred = np.square(np.subtract(y_true,y_pred)).mean()\n",
    "print(MSE_pred)\n",
    "MSE_metal = np.square(np.subtract(y_true,y_metal)).mean()\n",
    "print(MSE_metal)\n",
    "MSE_LI = np.square(np.subtract(y_true,y_LI)).mean()\n",
    "print(MSE_LI)\n",
    "MSE_NMAR = np.square(np.subtract(y_true,y_NMAR)).mean()\n",
    "print(MSE_NMAR)"
   ]
  },
  {
   "cell_type": "code",
   "execution_count": null,
   "metadata": {},
   "outputs": [],
   "source": [
    "MAE_pred=np.abs(np.subtract(y_true,y_pred)).mean()\n",
    "print(MAE_pred)\n",
    "MAE_metal=np.abs(np.subtract(y_true,y_metal)).mean()\n",
    "print(MAE_metal)\n",
    "MAE_LI=np.abs(np.subtract(y_true,y_LI)).mean()\n",
    "print(MAE_LI)\n",
    "MAE_NMAR=np.abs(np.subtract(y_true,y_NMAR)).mean()\n",
    "print(MAE_NMAR)"
   ]
  },
  {
   "cell_type": "code",
   "execution_count": null,
   "metadata": {},
   "outputs": [],
   "source": [
    "M=2**16-1\n",
    "\n",
    "PSNR_pred=10*np.log10(M**2/MSE_pred)\n",
    "print(PSNR_pred)\n",
    "PSNR_metal=10*np.log10(M**2/MSE_metal)\n",
    "print(PSNR_metal)\n",
    "PSNR_LI=10*np.log10(M**2/MSE_LI)\n",
    "print(PSNR_LI)\n",
    "PSNR_NMAR=10*np.log10(M**2/MSE_NMAR)\n",
    "print(PSNR_NMAR)"
   ]
  },
  {
   "cell_type": "code",
   "execution_count": null,
   "metadata": {},
   "outputs": [],
   "source": [
    "2^16-1"
   ]
  },
  {
   "cell_type": "code",
   "execution_count": null,
   "metadata": {},
   "outputs": [],
   "source": [
    "plt.hist(imgmetal[0,:,:,0], bins=40, normed=0, facecolor=\"blue\", edgecolor=\"black\", alpha=0.7);"
   ]
  },
  {
   "cell_type": "code",
   "execution_count": null,
   "metadata": {},
   "outputs": [],
   "source": [
    "plt.hist(imggt[0,:,:,0], bins=40, normed=0, facecolor=\"blue\", edgecolor=\"black\", alpha=0.7);"
   ]
  },
  {
   "cell_type": "code",
   "execution_count": null,
   "metadata": {},
   "outputs": [],
   "source": [
    "plt.hist(imgpred[0,:,:,0], bins=40, normed=0, facecolor=\"blue\", edgecolor=\"black\", alpha=0.7);"
   ]
  },
  {
   "cell_type": "code",
   "execution_count": null,
   "metadata": {},
   "outputs": [],
   "source": [
    "plt.hist(imgmetal[0,:,:,0]-imgpred[0,:,:,0], bins=40, normed=0, facecolor=\"blue\", edgecolor=\"black\", alpha=0.7);"
   ]
  },
  {
   "cell_type": "code",
   "execution_count": null,
   "metadata": {},
   "outputs": [],
   "source": [
    "plt.hist(imggt[0,:,:,0]-imgpred[0,:,:,0], bins=40, normed=0, facecolor=\"blue\", edgecolor=\"black\", alpha=0.7);"
   ]
  },
  {
   "cell_type": "code",
   "execution_count": null,
   "metadata": {},
   "outputs": [],
   "source": [
    "a1npy = a1[:,:,:,0]\n",
    "a2npy = a2[:,:,:,0]\n",
    "a3npy = a3[:,:,:,0]\n",
    "a4npy = a4[:,:,:,0]\n",
    "a5npy = a5[:,:,:,0]"
   ]
  },
  {
   "cell_type": "code",
   "execution_count": null,
   "metadata": {},
   "outputs": [],
   "source": [
    "np.save(\"a1.npy\",a1npy)\n",
    "np.save(\"a2.npy\",a2npy)\n",
    "np.save(\"a3.npy\",a3npy)\n",
    "np.save(\"a4.npy\",a4npy)\n",
    "np.save(\"a5.npy\",a5npy)"
   ]
  },
  {
   "cell_type": "code",
   "execution_count": null,
   "metadata": {},
   "outputs": [],
   "source": [
    "bb = read_volume('data/outputstestc.tfrecord')\n",
    "b1 = session.run(bb)\n",
    "print(b1.shape)\n",
    "b2 = session.run(bb)\n",
    "print(b2.shape)\n",
    "b3 = session.run(bb)\n",
    "print(b2.shape)\n",
    "b4 = session.run(bb)\n",
    "print(b3.shape)\n",
    "b1npy = b1[:,:,:,0]\n",
    "b2npy = b2[:,:,:,0]\n",
    "b3npy = b3[:,:,:,0]\n",
    "b4npy = b4[:,:,:,0]\n",
    "np.save(\"b1.npy\",b1npy)\n",
    "np.save(\"b2.npy\",b2npy)\n",
    "np.save(\"b3.npy\",b3npy)\n",
    "np.save(\"b4.npy\",b4npy)"
   ]
  },
  {
   "cell_type": "code",
   "execution_count": null,
   "metadata": {},
   "outputs": [],
   "source": [
    "img1a = img1[0,:,:]"
   ]
  },
  {
   "cell_type": "code",
   "execution_count": null,
   "metadata": {},
   "outputs": [],
   "source": [
    "img1a = img1a.astype(np.uint16)"
   ]
  },
  {
   "cell_type": "code",
   "execution_count": null,
   "metadata": {},
   "outputs": [],
   "source": [
    "img1a"
   ]
  },
  {
   "cell_type": "code",
   "execution_count": null,
   "metadata": {},
   "outputs": [],
   "source": [
    "matplotlib.image.imsave('img1a.png', img1a)"
   ]
  },
  {
   "cell_type": "code",
   "execution_count": null,
   "metadata": {},
   "outputs": [],
   "source": [
    "numpngw.write_png('img1a.png', img1a)"
   ]
  },
  {
   "cell_type": "code",
   "execution_count": null,
   "metadata": {},
   "outputs": [],
   "source": [
    "sum(abs(bb))"
   ]
  },
  {
   "cell_type": "code",
   "execution_count": null,
   "metadata": {},
   "outputs": [],
   "source": [
    "plt.hist(aa, bins=40, normed=0, facecolor=\"blue\", edgecolor=\"black\", alpha=0.7)"
   ]
  },
  {
   "cell_type": "code",
   "execution_count": null,
   "metadata": {},
   "outputs": [],
   "source": [
    "bb = targets[i,250,:,0] - outputs5[i,250,:,0]"
   ]
  },
  {
   "cell_type": "code",
   "execution_count": null,
   "metadata": {},
   "outputs": [],
   "source": [
    "bb"
   ]
  },
  {
   "cell_type": "code",
   "execution_count": null,
   "metadata": {},
   "outputs": [],
   "source": [
    "plt.hist(bb, bins=40, normed=0, facecolor=\"blue\", edgecolor=\"black\", alpha=0.7)"
   ]
  },
  {
   "cell_type": "code",
   "execution_count": null,
   "metadata": {},
   "outputs": [],
   "source": [
    "ct_prediction[150,1:5,1:5,0]"
   ]
  },
  {
   "cell_type": "code",
   "execution_count": null,
   "metadata": {},
   "outputs": [],
   "source": [
    "ct_prediction.min()"
   ]
  },
  {
   "cell_type": "code",
   "execution_count": null,
   "metadata": {},
   "outputs": [],
   "source": [
    "import numpy as np\n",
    "import tensorflow as tf\n",
    "\n",
    "from mrtoct import data, ioutil\n",
    "\n",
    "from matplotlib import pyplot as plt\n",
    "\n",
    "#transform = data.transform.DecodeExample()\n",
    "pre_transform = data.transform.Compose([\n",
    "    data.transform.DecodeExample(),\n",
    "    data.transform.ConstNormalization(tf.uint16.max),\n",
    "])\n",
    "post_transform = data.transform.CropOrPad2D(384, 384)\n",
    "volume = 0\n",
    "slice = 0\n",
    "\n",
    "def read_volume(path):\n",
    "    return (tf.data\n",
    "            .TFRecordDataset(path, 'GZIP')\n",
    "            .map(pre_transform)\n",
    "            .skip(volume).take(1)\n",
    "            .apply(tf.contrib.data.unbatch())\n",
    "            #.map(post_transform)\n",
    "            #.skip(slice)\n",
    "            .batch(2)\n",
    "            .make_one_shot_iterator()\n",
    "            .get_next())\n",
    "\n",
    "session = tf.Session()"
   ]
  },
  {
   "cell_type": "code",
   "execution_count": null,
   "metadata": {},
   "outputs": [],
   "source": [
    "mr_tensor = read_volume('ctniifile/patient_ct.tfrecord')"
   ]
  },
  {
   "cell_type": "code",
   "execution_count": null,
   "metadata": {},
   "outputs": [],
   "source": [
    "while True:\n",
    "    try:\n",
    "        mr = session.run(mr_tensor)\n",
    "        print(mr.shape)\n",
    "    except Exception as OutOfRangeError:\n",
    "        #print(OutOfRangeError.__doc__)\n",
    "        print(OutOfRangeError.message)\n",
    "        break"
   ]
  },
  {
   "cell_type": "code",
   "execution_count": null,
   "metadata": {},
   "outputs": [],
   "source": [
    "mr.shape"
   ]
  },
  {
   "cell_type": "code",
   "execution_count": null,
   "metadata": {},
   "outputs": [],
   "source": [
    "plt.imshow(mr[2,:,:,0], cmap='gray')\n",
    "plt.show()"
   ]
  },
  {
   "cell_type": "code",
   "execution_count": null,
   "metadata": {},
   "outputs": [],
   "source": []
  },
  {
   "cell_type": "code",
   "execution_count": null,
   "metadata": {},
   "outputs": [],
   "source": [
    "\n",
    "inputs_dataset = (tf.data\n",
    "                  .TFRecordDataset(inputs_path, ioutil.TFRecordCString)\n",
    "                  .map(pre_transform)\n",
    "                  .skip(volume).take(1)\n",
    "                  .apply(tf.contrib.data.unbatch())\n",
    "                  .map(post_transform)\n",
    "                  .skip(slice))"
   ]
  }
 ],
 "metadata": {
  "kernelspec": {
   "display_name": "Python 3",
   "language": "python",
   "name": "python3"
  },
  "language_info": {
   "codemirror_mode": {
    "name": "ipython",
    "version": 3
   },
   "file_extension": ".py",
   "mimetype": "text/x-python",
   "name": "python",
   "nbconvert_exporter": "python",
   "pygments_lexer": "ipython3",
   "version": "3.6.2"
  }
 },
 "nbformat": 4,
 "nbformat_minor": 2
}
